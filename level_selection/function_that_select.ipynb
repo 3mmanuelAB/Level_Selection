{
 "cells": [
  {
   "cell_type": "code",
   "execution_count": 3,
   "metadata": {},
   "outputs": [],
   "source": [
    "def select_nu (min_len =2, max_len=4, nu_trie=5):\n",
    "    select = None\n",
    "    while select != 0:\n",
    "        select = input (\"\"\" please enter a value between 1 and 4 to select type\n",
    "                            1 - simple\n",
    "                            2 - easy \n",
    "                            3 - fair\n",
    "                            4 - hard\n",
    "\n",
    "                            the enter 0 to exist\"\"\")\n",
    "\n",
    "\n",
    "\n",
    "\n",
    "        try:\n",
    "            select = int(select)\n",
    "            while select != 0:\n",
    "\n",
    "                if select == 1:\n",
    "                    min_len =2\n",
    "                    max_len =4\n",
    "                    nu_tries =5\n",
    "                elif select == 2:\n",
    "                    min_len = 4\n",
    "                    max_len = 6\n",
    "                    nu_tries = 5\n",
    "                elif select == 3:\n",
    "                    min_len = 6\n",
    "                    max_len = 8\n",
    "                    nu_tries = 5\n",
    "                elif select == 4:\n",
    "                    min_len = 8\n",
    "                    max_len = 10\n",
    "                    nu_tries = 5\n",
    "                else:\n",
    "                    print(\"you have entered a wrong selection\")\n",
    "\n",
    "                se = {\n",
    "                    \"min_len\" : min_len,\n",
    "                    \"max_len\" : max_len,\n",
    "                    \"nu_tries\" : nu_tries}\n",
    "                return se\n",
    "        except:\n",
    "                        print(\"you have entered a wrong selection\")\n",
    "\n",
    "\n",
    "\n"
   ]
  },
  {
   "cell_type": "code",
   "execution_count": 4,
   "metadata": {},
   "outputs": [
    {
     "name": "stdout",
     "output_type": "stream",
     "text": [
      " please enter a value between 1 and 4 to select type\n",
      "                            1 - simple\n",
      "                            2 - easy \n",
      "                            3 - fair\n",
      "                            4 - hard\n",
      "\n",
      "                            the enter 0 to exist1\n"
     ]
    },
    {
     "data": {
      "text/plain": [
       "{'min_len': 2, 'max_len': 4, 'nu_tries': 5}"
      ]
     },
     "execution_count": 4,
     "metadata": {},
     "output_type": "execute_result"
    }
   ],
   "source": [
    "select_nu()"
   ]
  },
  {
   "cell_type": "code",
   "execution_count": 5,
   "metadata": {},
   "outputs": [],
   "source": [
    "None?"
   ]
  },
  {
   "cell_type": "code",
   "execution_count": null,
   "metadata": {},
   "outputs": [],
   "source": []
  }
 ],
 "metadata": {
  "kernelspec": {
   "display_name": "Python 3",
   "language": "python",
   "name": "python3"
  },
  "language_info": {
   "codemirror_mode": {
    "name": "ipython",
    "version": 3
   },
   "file_extension": ".py",
   "mimetype": "text/x-python",
   "name": "python",
   "nbconvert_exporter": "python",
   "pygments_lexer": "ipython3",
   "version": "3.7.3"
  }
 },
 "nbformat": 4,
 "nbformat_minor": 2
}
